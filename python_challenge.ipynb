{
 "cells": [
  {
   "cell_type": "markdown",
   "metadata": {},
   "source": [
    "### A financial institution has hired you to accurately predict the probability of loanee/borrower defaulting on a vehicle loan in the first EMI (Equated Monthly Instalments) on the due date. Following Information regarding the loan and loanee are provided in the datasets:\n",
    "\n",
    "    1.Loanee Information (Demographic data like age, income, Identity proof etc.)\n",
    "    2.Loan Information (Disbursal details, amount, EMI, loan to value ratio etc.)\n",
    "    3.Bureau data & history (Bureau score, number of active accounts, the status of other loans, credit-\n",
    "      history etc.).\n",
    "#### Doing so will ensure that clients capable of repayment are not rejected and important  determinants can be identified which can be further used for minimising the default rates.\n",
    "\n",
    "#### Data Description\n",
    "    1.train.zip contains train.csv and data_dictionary.csv.\n",
    "\n",
    "    2.train.csv contains the training data with details on loan as described in the last section\n",
    "\n",
    "    3.data_dictionary.csv contains a brief description on each variable provided in the training and test set."
   ]
  },
  {
   "cell_type": "markdown",
   "metadata": {},
   "source": [
    "### Your task is solve all the questions asked below."
   ]
  },
  {
   "cell_type": "markdown",
   "metadata": {},
   "source": [
    "#### 1. Import the necessary packages and install them using pip3 command from command prompt if the module is not found"
   ]
  },
  {
   "cell_type": "code",
   "execution_count": 2,
   "metadata": {},
   "outputs": [
    {
     "ename": "ModuleNotFoundError",
     "evalue": "No module named 'plotly'",
     "output_type": "error",
     "traceback": [
      "\u001b[1;31m---------------------------------------------------------------------------\u001b[0m",
      "\u001b[1;31mModuleNotFoundError\u001b[0m                       Traceback (most recent call last)",
      "\u001b[1;32m<ipython-input-2-a7e08d06482c>\u001b[0m in \u001b[0;36m<module>\u001b[1;34m()\u001b[0m\n\u001b[0;32m     16\u001b[0m \u001b[1;32mimport\u001b[0m \u001b[0mos\u001b[0m\u001b[1;33m\u001b[0m\u001b[0m\n\u001b[0;32m     17\u001b[0m \u001b[1;33m\u001b[0m\u001b[0m\n\u001b[1;32m---> 18\u001b[1;33m \u001b[1;32mfrom\u001b[0m \u001b[0mplotly\u001b[0m \u001b[1;32mimport\u001b[0m \u001b[0mplotly\u001b[0m\u001b[1;33m\u001b[0m\u001b[0m\n\u001b[0m\u001b[0;32m     19\u001b[0m \u001b[1;32mimport\u001b[0m \u001b[0mplotly\u001b[0m\u001b[1;33m.\u001b[0m\u001b[0moffline\u001b[0m \u001b[1;32mas\u001b[0m \u001b[0moffline\u001b[0m\u001b[1;33m\u001b[0m\u001b[0m\n\u001b[0;32m     20\u001b[0m \u001b[1;32mimport\u001b[0m \u001b[0mplotly\u001b[0m\u001b[1;33m.\u001b[0m\u001b[0mgraph_objs\u001b[0m \u001b[1;32mas\u001b[0m \u001b[0mgo\u001b[0m\u001b[1;33m\u001b[0m\u001b[0m\n",
      "\u001b[1;31mModuleNotFoundError\u001b[0m: No module named 'plotly'"
     ]
    }
   ],
   "source": [
    "%matplotlib inline\n",
    "import warnings\n",
    "warnings.filterwarnings(\"ignore\")\n",
    "import pandas as pd\n",
    "import numpy as np\n",
    "import nltk\n",
    "import string\n",
    "import matplotlib.pyplot as plt\n",
    "import seaborn as sns\n",
    "\n",
    "import re\n",
    "# Tutorial about Python regular expressions: https://pymotw.com/2/re/\n",
    "import string\n",
    "\n",
    "from tqdm import tqdm\n",
    "import os\n",
    "\n",
    "from plotly import plotly\n",
    "import plotly.offline as offline\n",
    "import plotly.graph_objs as go\n",
    "offline.init_notebook_mode()\n",
    "from collections import Counter"
   ]
  },
  {
   "cell_type": "markdown",
   "metadata": {},
   "source": [
    "#### 2. Preprocess the necessary features in the dataframe and find the age of the applicants at the time of applying loan(in years). Add this as a new feature in the dataframe."
   ]
  },
  {
   "cell_type": "code",
   "execution_count": 106,
   "metadata": {},
   "outputs": [],
   "source": [
    "data = pd.read_csv('dataset/train.csv')"
   ]
  },
  {
   "cell_type": "code",
   "execution_count": 107,
   "metadata": {},
   "outputs": [],
   "source": [
    "data['age_in_years'] = (pd.datetime.now().date() - pd.to_datetime(data['Date.of.Birth'], format='%d-%m-%y'))/365"
   ]
  },
  {
   "cell_type": "code",
   "execution_count": 108,
   "metadata": {},
   "outputs": [],
   "source": [
    "data['age_in_years'] = data['age_in_years'].apply(lambda x: x.days)"
   ]
  },
  {
   "cell_type": "code",
   "execution_count": 44,
   "metadata": {},
   "outputs": [
    {
     "name": "stdout",
     "output_type": "stream",
     "text": [
      "<class 'pandas.core.frame.DataFrame'>\n",
      "RangeIndex: 233154 entries, 0 to 233153\n",
      "Data columns (total 42 columns):\n",
      "UniqueID                               233154 non-null int64\n",
      "disbursed_amount                       233154 non-null int64\n",
      "asset_cost                             233154 non-null int64\n",
      "ltv                                    233154 non-null float64\n",
      "branch_id                              233154 non-null int64\n",
      "supplier_id                            233154 non-null int64\n",
      "manufacturer_id                        233154 non-null int64\n",
      "Current_pincode_ID                     233154 non-null int64\n",
      "Date.of.Birth                          233154 non-null object\n",
      "Employment.Type                        225493 non-null object\n",
      "DisbursalDate                          233154 non-null object\n",
      "State_ID                               233154 non-null int64\n",
      "Employee_code_ID                       233154 non-null int64\n",
      "MobileNo_Avl_Flag                      233154 non-null int64\n",
      "Aadhar_flag                            233154 non-null int64\n",
      "PAN_flag                               233154 non-null int64\n",
      "VoterID_flag                           233154 non-null int64\n",
      "Driving_flag                           233154 non-null int64\n",
      "Passport_flag                          233154 non-null int64\n",
      "PERFORM_CNS.SCORE                      233154 non-null int64\n",
      "PERFORM_CNS.SCORE.DESCRIPTION          233154 non-null object\n",
      "PRI.NO.OF.ACCTS                        233154 non-null int64\n",
      "PRI.ACTIVE.ACCTS                       233154 non-null int64\n",
      "PRI.OVERDUE.ACCTS                      233154 non-null int64\n",
      "PRI.CURRENT.BALANCE                    233154 non-null int64\n",
      "PRI.SANCTIONED.AMOUNT                  233154 non-null int64\n",
      "PRI.DISBURSED.AMOUNT                   233154 non-null int64\n",
      "SEC.NO.OF.ACCTS                        233154 non-null int64\n",
      "SEC.ACTIVE.ACCTS                       233154 non-null int64\n",
      "SEC.OVERDUE.ACCTS                      233154 non-null int64\n",
      "SEC.CURRENT.BALANCE                    233154 non-null int64\n",
      "SEC.SANCTIONED.AMOUNT                  233154 non-null int64\n",
      "SEC.DISBURSED.AMOUNT                   233154 non-null int64\n",
      "PRIMARY.INSTAL.AMT                     233154 non-null int64\n",
      "SEC.INSTAL.AMT                         233154 non-null int64\n",
      "NEW.ACCTS.IN.LAST.SIX.MONTHS           233154 non-null int64\n",
      "DELINQUENT.ACCTS.IN.LAST.SIX.MONTHS    233154 non-null int64\n",
      "AVERAGE.ACCT.AGE                       233154 non-null object\n",
      "CREDIT.HISTORY.LENGTH                  233154 non-null object\n",
      "NO.OF_INQUIRIES                        233154 non-null int64\n",
      "loan_default                           233154 non-null int64\n",
      "age_in_years                           233154 non-null timedelta64[ns]\n",
      "dtypes: float64(1), int64(34), object(6), timedelta64[ns](1)\n",
      "memory usage: 74.7+ MB\n"
     ]
    }
   ],
   "source": [
    "data.info()"
   ]
  },
  {
   "cell_type": "markdown",
   "metadata": {},
   "source": [
    "#### 3. Convert AVERAGE.ACCT.AGE and CREDIT.HISTORY.LENGTH into numerical columns by preprocessing. You've to convert the data into months. For example if the data point is 2 yrs and 3 month, the new column should have 27 as its feature. "
   ]
  },
  {
   "cell_type": "code",
   "execution_count": 109,
   "metadata": {},
   "outputs": [],
   "source": [
    "data['AVERAGE.ACCT.AGE.MONTHS'] = data['AVERAGE.ACCT.AGE'].apply(lambda x: int(re.findall(r'\\d+',x)[0])*12+int(re.findall(r'\\d+',x)[1]))"
   ]
  },
  {
   "cell_type": "code",
   "execution_count": 110,
   "metadata": {},
   "outputs": [],
   "source": [
    "data['CREDIT.HISTORY.LENGTH.MONTHS'] = data['CREDIT.HISTORY.LENGTH'].apply(lambda x: int(re.findall(r'\\d+',x)[0])*12+int(re.findall(r'\\d+',x)[1]))"
   ]
  },
  {
   "cell_type": "markdown",
   "metadata": {},
   "source": [
    "#### 4. Find the top 5 positively correlated features with respect to the target and plot a bar graph with y-axis as a correlation and x-axis as feature names . (Bonus: You can also try polynomial featurization upto degree 3, find their correlation and add them as new features.)"
   ]
  },
  {
   "cell_type": "code",
   "execution_count": 168,
   "metadata": {},
   "outputs": [
    {
     "data": {
      "text/plain": [
       "ltv                 0.098208\n",
       "disbursed_amount    0.077675\n",
       "State_ID            0.048075\n",
       "VoterID_flag        0.043747\n",
       "NO.OF_INQUIRIES     0.043678\n",
       "Name: loan_default, dtype: float64"
      ]
     },
     "execution_count": 168,
     "metadata": {},
     "output_type": "execute_result"
    }
   ],
   "source": [
    "corr = data.corr()\n",
    "corr['loan_default'].sort_values(ascending=False)[1:6]"
   ]
  },
  {
   "cell_type": "code",
   "execution_count": 177,
   "metadata": {},
   "outputs": [
    {
     "data": {
      "image/png": "[encoded data removed]",
      "text/plain": [
       "<Figure size 432x288 with 1 Axes>"
      ]
     },
     "metadata": {},
     "output_type": "display_data"
    }
   ],
   "source": [
    "plt.plot(corr['loan_default'].sort_values(ascending=False)[1:6])\n",
    "plt.xlabel('features')\n",
    "plt.xticks(rotation=45)\n",
    "plt.ylabel('correlation values')\n",
    "plt.grid()\n",
    "plt.show()"
   ]
  },
  {
   "cell_type": "markdown",
   "metadata": {},
   "source": [
    "#### 5. Plot the distributions of most negatively correlated feature with respect to target values and see if you can find any trends"
   ]
  },
  {
   "cell_type": "code",
   "execution_count": 182,
   "metadata": {},
   "outputs": [
    {
     "data": {
      "image/png": "[encoded data removed]",
      "text/plain": [
       "<Figure size 1296x720 with 1 Axes>"
      ]
     },
     "metadata": {},
     "output_type": "display_data"
    }
   ],
   "source": [
    "plt.figure(figsize=(18,10))\n",
    "plt.plot(corr['loan_default'].sort_values(ascending=True)[:-4])\n",
    "plt.xlabel('features')\n",
    "plt.xticks(rotation=45)\n",
    "plt.ylabel('correlation values')\n",
    "plt.grid()\n",
    "plt.show()"
   ]
  },
  {
   "cell_type": "markdown",
   "metadata": {},
   "source": [
    "Personal loanee information does not seem to have high correlation with the target variable"
   ]
  },
  {
   "cell_type": "markdown",
   "metadata": {},
   "source": [
    "#### 6. Find the mean age of the applicants with respect to the branch ID using group by function and add it as new feature. "
   ]
  },
  {
   "cell_type": "code",
   "execution_count": 96,
   "metadata": {},
   "outputs": [],
   "source": [
    "data['branch_average_age'] = data.groupby('branch_id')['age_in_years'].transform('mean')"
   ]
  },
  {
   "cell_type": "markdown",
   "metadata": {},
   "source": [
    "#### 7. Using dimensionality reduction(PCA/TSNE), find the optimal number number of features using elbow method which preserves upto 90% variance."
   ]
  },
  {
   "cell_type": "code",
   "execution_count": 99,
   "metadata": {},
   "outputs": [],
   "source": [
    "from sklearn.preprocessing import StandardScaler"
   ]
  },
  {
   "cell_type": "code",
   "execution_count": 183,
   "metadata": {},
   "outputs": [
    {
     "name": "stdout",
     "output_type": "stream",
     "text": [
      "<class 'pandas.core.frame.DataFrame'>\n",
      "RangeIndex: 233154 entries, 0 to 233153\n",
      "Data columns (total 25 columns):\n",
      "disbursed_amount                       233154 non-null int64\n",
      "asset_cost                             233154 non-null int64\n",
      "ltv                                    233154 non-null float64\n",
      "PERFORM_CNS.SCORE                      233154 non-null int64\n",
      "PRI.NO.OF.ACCTS                        233154 non-null int64\n",
      "PRI.ACTIVE.ACCTS                       233154 non-null int64\n",
      "PRI.OVERDUE.ACCTS                      233154 non-null int64\n",
      "PRI.CURRENT.BALANCE                    233154 non-null int64\n",
      "PRI.SANCTIONED.AMOUNT                  233154 non-null int64\n",
      "PRI.DISBURSED.AMOUNT                   233154 non-null int64\n",
      "SEC.NO.OF.ACCTS                        233154 non-null int64\n",
      "SEC.ACTIVE.ACCTS                       233154 non-null int64\n",
      "SEC.OVERDUE.ACCTS                      233154 non-null int64\n",
      "SEC.CURRENT.BALANCE                    233154 non-null int64\n",
      "SEC.SANCTIONED.AMOUNT                  233154 non-null int64\n",
      "SEC.DISBURSED.AMOUNT                   233154 non-null int64\n",
      "PRIMARY.INSTAL.AMT                     233154 non-null int64\n",
      "SEC.INSTAL.AMT                         233154 non-null int64\n",
      "NEW.ACCTS.IN.LAST.SIX.MONTHS           233154 non-null int64\n",
      "DELINQUENT.ACCTS.IN.LAST.SIX.MONTHS    233154 non-null int64\n",
      "NO.OF_INQUIRIES                        233154 non-null int64\n",
      "loan_default                           233154 non-null int64\n",
      "age_in_years                           233154 non-null int64\n",
      "AVERAGE.ACCT.AGE.MONTHS                233154 non-null int64\n",
      "CREDIT.HISTORY.LENGTH.MONTHS           233154 non-null int64\n",
      "dtypes: float64(1), int64(24)\n",
      "memory usage: 44.5 MB\n"
     ]
    }
   ],
   "source": [
    "preprocessed_data.info()"
   ]
  },
  {
   "cell_type": "code",
   "execution_count": 129,
   "metadata": {},
   "outputs": [],
   "source": [
    "preprocessed_data = data.drop(['Date.of.Birth','Employment.Type','DisbursalDate','AVERAGE.ACCT.AGE','CREDIT.HISTORY.LENGTH',\n",
    "                               'UniqueID','Current_pincode_ID','State_ID','Employee_code_ID','MobileNo_Avl_Flag','Aadhar_flag',\n",
    "                               'PAN_flag','VoterID_flag','Driving_flag','Passport_flag','branch_id','supplier_id',\n",
    "                              'manufacturer_id','PERFORM_CNS.SCORE.DESCRIPTION'], axis=1)"
   ]
  },
  {
   "cell_type": "code",
   "execution_count": 130,
   "metadata": {},
   "outputs": [
    {
     "data": {
      "text/html": [
       "<div>\n",
       "<style>\n",
       "    .dataframe thead tr:only-child th {\n",
       "        text-align: right;\n",
       "    }\n",
       "\n",
       "    .dataframe thead th {\n",
       "        text-align: left;\n",
       "    }\n",
       "\n",
       "    .dataframe tbody tr th {\n",
       "        vertical-align: top;\n",
       "    }\n",
       "</style>\n",
       "<table border=\"1\" class=\"dataframe\">\n",
       "  <thead>\n",
       "    <tr style=\"text-align: right;\">\n",
       "      <th></th>\n",
       "      <th>disbursed_amount</th>\n",
       "      <th>asset_cost</th>\n",
       "      <th>ltv</th>\n",
       "      <th>PERFORM_CNS.SCORE</th>\n",
       "      <th>PRI.NO.OF.ACCTS</th>\n",
       "      <th>PRI.ACTIVE.ACCTS</th>\n",
       "      <th>PRI.OVERDUE.ACCTS</th>\n",
       "      <th>PRI.CURRENT.BALANCE</th>\n",
       "      <th>PRI.SANCTIONED.AMOUNT</th>\n",
       "      <th>PRI.DISBURSED.AMOUNT</th>\n",
       "      <th>...</th>\n",
       "      <th>SEC.DISBURSED.AMOUNT</th>\n",
       "      <th>PRIMARY.INSTAL.AMT</th>\n",
       "      <th>SEC.INSTAL.AMT</th>\n",
       "      <th>NEW.ACCTS.IN.LAST.SIX.MONTHS</th>\n",
       "      <th>DELINQUENT.ACCTS.IN.LAST.SIX.MONTHS</th>\n",
       "      <th>NO.OF_INQUIRIES</th>\n",
       "      <th>loan_default</th>\n",
       "      <th>age_in_years</th>\n",
       "      <th>AVERAGE.ACCT.AGE.MONTHS</th>\n",
       "      <th>CREDIT.HISTORY.LENGTH.MONTHS</th>\n",
       "    </tr>\n",
       "  </thead>\n",
       "  <tbody>\n",
       "    <tr>\n",
       "      <th>0</th>\n",
       "      <td>50578</td>\n",
       "      <td>58400</td>\n",
       "      <td>89.55</td>\n",
       "      <td>0</td>\n",
       "      <td>0</td>\n",
       "      <td>0</td>\n",
       "      <td>0</td>\n",
       "      <td>0</td>\n",
       "      <td>0</td>\n",
       "      <td>0</td>\n",
       "      <td>...</td>\n",
       "      <td>0</td>\n",
       "      <td>0</td>\n",
       "      <td>0</td>\n",
       "      <td>0</td>\n",
       "      <td>0</td>\n",
       "      <td>0</td>\n",
       "      <td>0</td>\n",
       "      <td>35</td>\n",
       "      <td>0</td>\n",
       "      <td>0</td>\n",
       "    </tr>\n",
       "    <tr>\n",
       "      <th>1</th>\n",
       "      <td>47145</td>\n",
       "      <td>65550</td>\n",
       "      <td>73.23</td>\n",
       "      <td>598</td>\n",
       "      <td>1</td>\n",
       "      <td>1</td>\n",
       "      <td>1</td>\n",
       "      <td>27600</td>\n",
       "      <td>50200</td>\n",
       "      <td>50200</td>\n",
       "      <td>...</td>\n",
       "      <td>0</td>\n",
       "      <td>1991</td>\n",
       "      <td>0</td>\n",
       "      <td>0</td>\n",
       "      <td>1</td>\n",
       "      <td>0</td>\n",
       "      <td>1</td>\n",
       "      <td>33</td>\n",
       "      <td>23</td>\n",
       "      <td>23</td>\n",
       "    </tr>\n",
       "    <tr>\n",
       "      <th>2</th>\n",
       "      <td>53278</td>\n",
       "      <td>61360</td>\n",
       "      <td>89.63</td>\n",
       "      <td>0</td>\n",
       "      <td>0</td>\n",
       "      <td>0</td>\n",
       "      <td>0</td>\n",
       "      <td>0</td>\n",
       "      <td>0</td>\n",
       "      <td>0</td>\n",
       "      <td>...</td>\n",
       "      <td>0</td>\n",
       "      <td>0</td>\n",
       "      <td>0</td>\n",
       "      <td>0</td>\n",
       "      <td>0</td>\n",
       "      <td>0</td>\n",
       "      <td>0</td>\n",
       "      <td>33</td>\n",
       "      <td>0</td>\n",
       "      <td>0</td>\n",
       "    </tr>\n",
       "    <tr>\n",
       "      <th>3</th>\n",
       "      <td>57513</td>\n",
       "      <td>66113</td>\n",
       "      <td>88.48</td>\n",
       "      <td>305</td>\n",
       "      <td>3</td>\n",
       "      <td>0</td>\n",
       "      <td>0</td>\n",
       "      <td>0</td>\n",
       "      <td>0</td>\n",
       "      <td>0</td>\n",
       "      <td>...</td>\n",
       "      <td>0</td>\n",
       "      <td>31</td>\n",
       "      <td>0</td>\n",
       "      <td>0</td>\n",
       "      <td>0</td>\n",
       "      <td>1</td>\n",
       "      <td>1</td>\n",
       "      <td>25</td>\n",
       "      <td>8</td>\n",
       "      <td>15</td>\n",
       "    </tr>\n",
       "    <tr>\n",
       "      <th>4</th>\n",
       "      <td>52378</td>\n",
       "      <td>60300</td>\n",
       "      <td>88.39</td>\n",
       "      <td>0</td>\n",
       "      <td>0</td>\n",
       "      <td>0</td>\n",
       "      <td>0</td>\n",
       "      <td>0</td>\n",
       "      <td>0</td>\n",
       "      <td>0</td>\n",
       "      <td>...</td>\n",
       "      <td>0</td>\n",
       "      <td>0</td>\n",
       "      <td>0</td>\n",
       "      <td>0</td>\n",
       "      <td>0</td>\n",
       "      <td>1</td>\n",
       "      <td>1</td>\n",
       "      <td>41</td>\n",
       "      <td>0</td>\n",
       "      <td>0</td>\n",
       "    </tr>\n",
       "  </tbody>\n",
       "</table>\n",
       "<p>5 rows × 25 columns</p>\n",
       "</div>"
      ],
      "text/plain": [
       "   disbursed_amount  asset_cost    ltv  PERFORM_CNS.SCORE  PRI.NO.OF.ACCTS  \\\n",
       "0             50578       58400  89.55                  0                0   \n",
       "1             47145       65550  73.23                598                1   \n",
       "2             53278       61360  89.63                  0                0   \n",
       "3             57513       66113  88.48                305                3   \n",
       "4             52378       60300  88.39                  0                0   \n",
       "\n",
       "   PRI.ACTIVE.ACCTS  PRI.OVERDUE.ACCTS  PRI.CURRENT.BALANCE  \\\n",
       "0                 0                  0                    0   \n",
       "1                 1                  1                27600   \n",
       "2                 0                  0                    0   \n",
       "3                 0                  0                    0   \n",
       "4                 0                  0                    0   \n",
       "\n",
       "   PRI.SANCTIONED.AMOUNT  PRI.DISBURSED.AMOUNT              ...               \\\n",
       "0                      0                     0              ...                \n",
       "1                  50200                 50200              ...                \n",
       "2                      0                     0              ...                \n",
       "3                      0                     0              ...                \n",
       "4                      0                     0              ...                \n",
       "\n",
       "   SEC.DISBURSED.AMOUNT  PRIMARY.INSTAL.AMT  SEC.INSTAL.AMT  \\\n",
       "0                     0                   0               0   \n",
       "1                     0                1991               0   \n",
       "2                     0                   0               0   \n",
       "3                     0                  31               0   \n",
       "4                     0                   0               0   \n",
       "\n",
       "   NEW.ACCTS.IN.LAST.SIX.MONTHS  DELINQUENT.ACCTS.IN.LAST.SIX.MONTHS  \\\n",
       "0                             0                                    0   \n",
       "1                             0                                    1   \n",
       "2                             0                                    0   \n",
       "3                             0                                    0   \n",
       "4                             0                                    0   \n",
       "\n",
       "   NO.OF_INQUIRIES  loan_default  age_in_years  AVERAGE.ACCT.AGE.MONTHS  \\\n",
       "0                0             0            35                        0   \n",
       "1                0             1            33                       23   \n",
       "2                0             0            33                        0   \n",
       "3                1             1            25                        8   \n",
       "4                1             1            41                        0   \n",
       "\n",
       "   CREDIT.HISTORY.LENGTH.MONTHS  \n",
       "0                             0  \n",
       "1                            23  \n",
       "2                             0  \n",
       "3                            15  \n",
       "4                             0  \n",
       "\n",
       "[5 rows x 25 columns]"
      ]
     },
     "execution_count": 130,
     "metadata": {},
     "output_type": "execute_result"
    }
   ],
   "source": [
    "preprocessed_data.head(5)"
   ]
  },
  {
   "cell_type": "markdown",
   "metadata": {},
   "source": [
    "Remove target column"
   ]
  },
  {
   "cell_type": "code",
   "execution_count": 200,
   "metadata": {},
   "outputs": [],
   "source": [
    "preprocessed_data = preprocessed_data.drop(['loan_default'], axis=1)"
   ]
  },
  {
   "cell_type": "code",
   "execution_count": 201,
   "metadata": {},
   "outputs": [],
   "source": [
    "data_std = StandardScaler().fit_transform(preprocessed_data)"
   ]
  },
  {
   "cell_type": "code",
   "execution_count": 132,
   "metadata": {},
   "outputs": [],
   "source": [
    "from sklearn.decomposition import PCA"
   ]
  },
  {
   "cell_type": "code",
   "execution_count": 206,
   "metadata": {},
   "outputs": [
    {
     "data": {
      "text/plain": [
       "PCA(copy=True, iterated_power='auto', n_components=13, random_state=None,\n",
       "  svd_solver='auto', tol=0.0, whiten=False)"
      ]
     },
     "execution_count": 206,
     "metadata": {},
     "output_type": "execute_result"
    }
   ],
   "source": [
    "pca = PCA(n_components=13)\n",
    "pca.fit(data_std)"
   ]
  },
  {
   "cell_type": "code",
   "execution_count": 207,
   "metadata": {},
   "outputs": [
    {
     "data": {
      "image/png": "[encoded data removed]",
      "text/plain": [
       "<Figure size 432x288 with 1 Axes>"
      ]
     },
     "metadata": {},
     "output_type": "display_data"
    }
   ],
   "source": [
    "plt.plot(np.cumsum(pca.explained_variance_ratio_))\n",
    "plt.xlabel('number of components')\n",
    "plt.ylabel('cumulative explained variance')\n",
    "plt.grid()\n",
    "plt.show()"
   ]
  },
  {
   "cell_type": "markdown",
   "metadata": {},
   "source": [
    "#### 8. Split the data obtained after dimensionality reduction into train, test and cross validation using stratified sampling."
   ]
  },
  {
   "cell_type": "code",
   "execution_count": 208,
   "metadata": {},
   "outputs": [],
   "source": [
    "columns = ['pca_%i' % i for i in range(13)]\n",
    "data_pca = pd.DataFrame(pca.transform(data_std), columns=columns, index=preprocessed_data.index)"
   ]
  },
  {
   "cell_type": "code",
   "execution_count": 212,
   "metadata": {},
   "outputs": [],
   "source": [
    "data_pca['loan_default'] = data['loan_default']"
   ]
  },
  {
   "cell_type": "code",
   "execution_count": 213,
   "metadata": {},
   "outputs": [
    {
     "data": {
      "text/html": [
       "<div>\n",
       "<style>\n",
       "    .dataframe thead tr:only-child th {\n",
       "        text-align: right;\n",
       "    }\n",
       "\n",
       "    .dataframe thead th {\n",
       "        text-align: left;\n",
       "    }\n",
       "\n",
       "    .dataframe tbody tr th {\n",
       "        vertical-align: top;\n",
       "    }\n",
       "</style>\n",
       "<table border=\"1\" class=\"dataframe\">\n",
       "  <thead>\n",
       "    <tr style=\"text-align: right;\">\n",
       "      <th></th>\n",
       "      <th>pca_0</th>\n",
       "      <th>pca_1</th>\n",
       "      <th>pca_2</th>\n",
       "      <th>pca_3</th>\n",
       "      <th>pca_4</th>\n",
       "      <th>pca_5</th>\n",
       "      <th>pca_6</th>\n",
       "      <th>pca_7</th>\n",
       "      <th>pca_8</th>\n",
       "      <th>pca_9</th>\n",
       "      <th>pca_10</th>\n",
       "      <th>pca_11</th>\n",
       "      <th>pca_12</th>\n",
       "      <th>loan_default</th>\n",
       "    </tr>\n",
       "  </thead>\n",
       "  <tbody>\n",
       "    <tr>\n",
       "      <th>0</th>\n",
       "      <td>-1.222714</td>\n",
       "      <td>0.455686</td>\n",
       "      <td>0.325332</td>\n",
       "      <td>-0.670609</td>\n",
       "      <td>0.323866</td>\n",
       "      <td>-0.439869</td>\n",
       "      <td>1.121263</td>\n",
       "      <td>-0.960792</td>\n",
       "      <td>0.034998</td>\n",
       "      <td>0.384681</td>\n",
       "      <td>-0.278364</td>\n",
       "      <td>-0.131628</td>\n",
       "      <td>-0.205985</td>\n",
       "      <td>0</td>\n",
       "    </tr>\n",
       "    <tr>\n",
       "      <th>1</th>\n",
       "      <td>1.070270</td>\n",
       "      <td>-0.559526</td>\n",
       "      <td>-0.621475</td>\n",
       "      <td>-0.898160</td>\n",
       "      <td>-0.504937</td>\n",
       "      <td>1.136158</td>\n",
       "      <td>-0.496347</td>\n",
       "      <td>-1.576308</td>\n",
       "      <td>-0.938500</td>\n",
       "      <td>0.077172</td>\n",
       "      <td>0.342467</td>\n",
       "      <td>-0.018563</td>\n",
       "      <td>1.366387</td>\n",
       "      <td>1</td>\n",
       "    </tr>\n",
       "    <tr>\n",
       "      <th>2</th>\n",
       "      <td>-1.221487</td>\n",
       "      <td>0.448840</td>\n",
       "      <td>0.330173</td>\n",
       "      <td>-0.417025</td>\n",
       "      <td>0.273558</td>\n",
       "      <td>-0.418814</td>\n",
       "      <td>1.126334</td>\n",
       "      <td>-0.956322</td>\n",
       "      <td>0.096477</td>\n",
       "      <td>0.337357</td>\n",
       "      <td>-0.253601</td>\n",
       "      <td>-0.137290</td>\n",
       "      <td>-0.201445</td>\n",
       "      <td>0</td>\n",
       "    </tr>\n",
       "    <tr>\n",
       "      <th>3</th>\n",
       "      <td>-0.366460</td>\n",
       "      <td>0.020157</td>\n",
       "      <td>-0.260637</td>\n",
       "      <td>-0.004445</td>\n",
       "      <td>0.359435</td>\n",
       "      <td>-0.262815</td>\n",
       "      <td>1.458470</td>\n",
       "      <td>-0.233126</td>\n",
       "      <td>-0.040524</td>\n",
       "      <td>-0.150015</td>\n",
       "      <td>0.210608</td>\n",
       "      <td>0.877580</td>\n",
       "      <td>-0.077730</td>\n",
       "      <td>1</td>\n",
       "    </tr>\n",
       "    <tr>\n",
       "      <th>4</th>\n",
       "      <td>-1.098217</td>\n",
       "      <td>0.374722</td>\n",
       "      <td>0.186201</td>\n",
       "      <td>-0.431915</td>\n",
       "      <td>0.595066</td>\n",
       "      <td>-0.801369</td>\n",
       "      <td>1.234981</td>\n",
       "      <td>-0.735293</td>\n",
       "      <td>-0.549321</td>\n",
       "      <td>0.144963</td>\n",
       "      <td>0.095487</td>\n",
       "      <td>0.936269</td>\n",
       "      <td>-0.369061</td>\n",
       "      <td>1</td>\n",
       "    </tr>\n",
       "  </tbody>\n",
       "</table>\n",
       "</div>"
      ],
      "text/plain": [
       "      pca_0     pca_1     pca_2     pca_3     pca_4     pca_5     pca_6  \\\n",
       "0 -1.222714  0.455686  0.325332 -0.670609  0.323866 -0.439869  1.121263   \n",
       "1  1.070270 -0.559526 -0.621475 -0.898160 -0.504937  1.136158 -0.496347   \n",
       "2 -1.221487  0.448840  0.330173 -0.417025  0.273558 -0.418814  1.126334   \n",
       "3 -0.366460  0.020157 -0.260637 -0.004445  0.359435 -0.262815  1.458470   \n",
       "4 -1.098217  0.374722  0.186201 -0.431915  0.595066 -0.801369  1.234981   \n",
       "\n",
       "      pca_7     pca_8     pca_9    pca_10    pca_11    pca_12  loan_default  \n",
       "0 -0.960792  0.034998  0.384681 -0.278364 -0.131628 -0.205985             0  \n",
       "1 -1.576308 -0.938500  0.077172  0.342467 -0.018563  1.366387             1  \n",
       "2 -0.956322  0.096477  0.337357 -0.253601 -0.137290 -0.201445             0  \n",
       "3 -0.233126 -0.040524 -0.150015  0.210608  0.877580 -0.077730             1  \n",
       "4 -0.735293 -0.549321  0.144963  0.095487  0.936269 -0.369061             1  "
      ]
     },
     "execution_count": 213,
     "metadata": {},
     "output_type": "execute_result"
    }
   ],
   "source": [
    "data_pca.head(5)"
   ]
  },
  {
   "cell_type": "code",
   "execution_count": 219,
   "metadata": {},
   "outputs": [
    {
     "name": "stdout",
     "output_type": "stream",
     "text": [
      "loan_default\n",
      "0    78.292888\n",
      "1    21.707112\n",
      "dtype: float64\n"
     ]
    }
   ],
   "source": [
    "print(data_pca.groupby(['loan_default']).size()/len(data_pca.index)*100)"
   ]
  },
  {
   "cell_type": "code",
   "execution_count": 215,
   "metadata": {},
   "outputs": [],
   "source": [
    "from sklearn import model_selection"
   ]
  },
  {
   "cell_type": "code",
   "execution_count": 216,
   "metadata": {},
   "outputs": [],
   "source": [
    "train, test = model_selection.train_test_split(data_pca, test_size=0.25, stratify=data_pca['loan_default'])"
   ]
  },
  {
   "cell_type": "code",
   "execution_count": 225,
   "metadata": {},
   "outputs": [
    {
     "name": "stdout",
     "output_type": "stream",
     "text": [
      "loan_default\n",
      "0    78.292645\n",
      "1    21.707355\n",
      "dtype: float64\n"
     ]
    }
   ],
   "source": [
    "print(test.groupby(['loan_default']).size()/len(test.index)*100)"
   ]
  },
  {
   "cell_type": "code",
   "execution_count": 223,
   "metadata": {},
   "outputs": [],
   "source": [
    "train, validation = model_selection.train_test_split(train, test_size=0.25, stratify=train['loan_default'])"
   ]
  },
  {
   "cell_type": "code",
   "execution_count": 224,
   "metadata": {},
   "outputs": [
    {
     "name": "stdout",
     "output_type": "stream",
     "text": [
      "loan_default\n",
      "0    78.292198\n",
      "1    21.707802\n",
      "dtype: float64\n"
     ]
    }
   ],
   "source": [
    "print(validation.groupby(['loan_default']).size()/len(validation.index)*100)"
   ]
  }
 ],
 "metadata": {
  "kernelspec": {
   "display_name": "Python 3",
   "language": "python",
   "name": "python3"
  },
  "language_info": {
   "codemirror_mode": {
    "name": "ipython",
    "version": 3
   },
   "file_extension": ".py",
   "mimetype": "text/x-python",
   "name": "python",
   "nbconvert_exporter": "python",
   "pygments_lexer": "ipython3",
   "version": "3.6.3"
  }
 },
 "nbformat": 4,
 "nbformat_minor": 2
}
